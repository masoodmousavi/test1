{
 "cells": [
  {
   "cell_type": "code",
   "execution_count": 1,
   "id": "33c5b6f4",
   "metadata": {},
   "outputs": [],
   "source": [
    "import cv2\n",
    "import numpy as np\n",
    "\n",
    "locx1 = 0 \n",
    "locx2 = 0\n",
    "locy1 = 0\n",
    "locy2 = 0\n",
    "z = 0\n",
    "\n",
    "def myfun(event,x,y,flags,param):\n",
    "    if(event == cv2.EVENT_LBUTTONDBLCLK):\n",
    "        global locx1, locx2, locy1, locy2, z\n",
    "        if(z==0):\n",
    "            locx1 = x\n",
    "            locy1 = y\n",
    "            z = 1\n",
    "        elif(z==1):\n",
    "            z = 0\n",
    "            locx2 = x\n",
    "            locy2 = y\n",
    "            rec()\n",
    "    elif(z==1):\n",
    "        locx2 = x\n",
    "        locy2 = y\n",
    "        rec()\n",
    "\n",
    "def rec():\n",
    "    global locx1, locx2, locy1, locy2\n",
    "    img = imgCopy.copy()\n",
    "    cv2.rectangle(img,(locx1,locy1),(locx2,locy2),(0,255,0),2)  \n",
    "    cv2.imshow('image', img)\n",
    "\n",
    "\n",
    "img = cv2.imread('5.jpeg' , 3)\n",
    "\n",
    "imgCopy = img.copy()\n",
    "\n",
    "cv2.namedWindow('image')  \n",
    "cv2.setMouseCallback('image',myfun)\n",
    "cv2.imshow('image', img)\n",
    "\n",
    "while(1):\n",
    "    q=cv2.waitKey(1)\n",
    "    if q==ord(\"q\") or q==ord(\"Q\"):\n",
    "        break \n",
    "\n",
    "cv2.destroyAllWindows()"
   ]
  }
 ],
 "metadata": {
  "kernelspec": {
   "display_name": "Python 3 (ipykernel)",
   "language": "python",
   "name": "python3"
  },
  "language_info": {
   "codemirror_mode": {
    "name": "ipython",
    "version": 3
   },
   "file_extension": ".py",
   "mimetype": "text/x-python",
   "name": "python",
   "nbconvert_exporter": "python",
   "pygments_lexer": "ipython3",
   "version": "3.9.13"
  }
 },
 "nbformat": 4,
 "nbformat_minor": 5
}
